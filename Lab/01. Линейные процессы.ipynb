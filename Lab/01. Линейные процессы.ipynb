{
 "cells": [
  {
   "cell_type": "markdown",
   "id": "4719f242-a39e-41cd-b21b-bbc5eccffa0e",
   "metadata": {},
   "source": [
    "**Задание 1**"
   ]
  },
  {
   "cell_type": "markdown",
   "id": "47a70712-ae4e-46d6-87c3-6f6a1e43d2fa",
   "metadata": {},
   "source": [
    "**5. Даны действительные положительные числа a, b, c. По трем сторонам с длинами a, b, c можно построить треугольник. Найти углы треугольника.**"
   ]
  },
  {
   "cell_type": "code",
   "execution_count": 57,
   "id": "e834fc2b-fe7a-4e49-b347-85dbe32e9435",
   "metadata": {},
   "outputs": [
    {
     "name": "stdin",
     "output_type": "stream",
     "text": [
      "Введите длину стороны a:  5\n",
      "Введите длину стороны b:  5\n",
      "Введите длину стороны c:  5\n"
     ]
    }
   ],
   "source": [
    "while True:\n",
    "    a = float(input(\"Введите длину стороны a: \"))\n",
    "    b = float(input(\"Введите длину стороны b: \"))\n",
    "    c = float(input(\"Введите длину стороны c: \"))\n",
    "\n",
    "    if ((a+b<=c or a+c<=b or c+b<=a) and (a < 0 or b < 0 or c < 0)):\n",
    "        print(\"Нет треугольника с такими сторонами!!!\")\n",
    "    else:\n",
    "        break"
   ]
  },
  {
   "cell_type": "code",
   "execution_count": 58,
   "id": "df76cbf6-ad68-40f5-a6e9-d27a3bd01961",
   "metadata": {},
   "outputs": [],
   "source": [
    "from math import acos, cos, degrees\n",
    "A = degrees(acos((b**2 + c**2 - a**2)/(2*b*c)))\n",
    "B = degrees(acos((a**2 + c**2 - b**2)/(2*b*c)))\n",
    "C = 180 - A - B"
   ]
  },
  {
   "cell_type": "code",
   "execution_count": 59,
   "id": "4ab209ba-ae05-4336-9538-471de33db646",
   "metadata": {},
   "outputs": [
    {
     "name": "stdout",
     "output_type": "stream",
     "text": [
      "Угол A: 60.00\n",
      "Угол B: 60.00\n",
      "Угол C: 60.00\n"
     ]
    }
   ],
   "source": [
    "print(\"Угол A: {:.2f}\\nУгол B: {:.2f}\\nУгол C: {:.2f}\".format(A,B,C))"
   ]
  },
  {
   "cell_type": "markdown",
   "id": "ef2eb384-c347-4a94-871a-56aa72e2bf76",
   "metadata": {},
   "source": [
    "**Задание 2\n",
    "Написать программу не используя условный оператор. На экран вывести TRUE или FALSE**"
   ]
  },
  {
   "cell_type": "markdown",
   "id": "1208d208-8739-42cd-827e-edce481cdb13",
   "metadata": {},
   "source": [
    "**5. Из чисел a, b, c меньшим является с, а большим b**"
   ]
  },
  {
   "cell_type": "code",
   "execution_count": 1,
   "id": "83d10af8-c9d4-4f90-8ca2-1006be087a84",
   "metadata": {},
   "outputs": [
    {
     "name": "stdin",
     "output_type": "stream",
     "text": [
      "Введите число a:  5\n",
      "Введите число b:  5\n",
      "Введите число c:  5\n"
     ]
    }
   ],
   "source": [
    "a = float(input(\"Введите число a: \"))\n",
    "b = float(input(\"Введите число b: \"))\n",
    "c = float(input(\"Введите число c: \"))"
   ]
  },
  {
   "cell_type": "code",
   "execution_count": 2,
   "id": "9b19ae6d-9e3a-4f83-9f70-78bc8852716d",
   "metadata": {},
   "outputs": [
    {
     "name": "stdout",
     "output_type": "stream",
     "text": [
      "False\n"
     ]
    }
   ],
   "source": [
    "print(('-' in str(c - a) and '-' in str(c - b)) and (not '-' in str(b - a) and not '-' in str(b - c)))"
   ]
  },
  {
   "cell_type": "markdown",
   "id": "f0476294-d089-40f7-b252-f128f961ed5c",
   "metadata": {},
   "source": [
    "**Задание 3. Запишите логическое выражение, которое принимает значение \"TRUE\" тогда и только тогда, когда точка с координатами (x, y) принадлежит заштрихованной области и FALSE  в противном случае.**\n",
    "\n",
    "![](Формула2.png)"
   ]
  },
  {
   "cell_type": "code",
   "execution_count": 3,
   "id": "59a43fc3-602f-4097-882a-cfc18f3df88e",
   "metadata": {},
   "outputs": [
    {
     "name": "stdin",
     "output_type": "stream",
     "text": [
      "Введите x:  2\n",
      "Введите y:  0\n"
     ]
    }
   ],
   "source": [
    "x = float(input(\"Введите x: \"))\n",
    "y = float(input(\"Введите y: \"))"
   ]
  },
  {
   "cell_type": "code",
   "execution_count": 5,
   "id": "9da83170-48a9-4096-a0ac-3764c1be0bc3",
   "metadata": {},
   "outputs": [
    {
     "name": "stdout",
     "output_type": "stream",
     "text": [
      "False\n"
     ]
    }
   ],
   "source": [
    "print(y < 1 and x > 0 and (y>x-1 or x**2+y**2<1))"
   ]
  },
  {
   "cell_type": "code",
   "execution_count": null,
   "id": "8d7eca16-51bf-40a5-aa73-9a22398dbc08",
   "metadata": {},
   "outputs": [],
   "source": []
  }
 ],
 "metadata": {
  "kernelspec": {
   "display_name": "Python 3",
   "language": "python",
   "name": "python3"
  },
  "language_info": {
   "codemirror_mode": {
    "name": "ipython",
    "version": 3
   },
   "file_extension": ".py",
   "mimetype": "text/x-python",
   "name": "python",
   "nbconvert_exporter": "python",
   "pygments_lexer": "ipython3",
   "version": "3.8.8"
  }
 },
 "nbformat": 4,
 "nbformat_minor": 5
}
