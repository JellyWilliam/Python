{
 "cells": [
  {
   "attachments": {
    "b23cac95-fe5c-4f68-83fb-e05a1038cb21.png": {
     "image/png": "[encoded data removed]"
    }
   },
   "cell_type": "markdown",
   "id": "e953ee7d-9840-4005-b0c8-350bdf960f1f",
   "metadata": {},
   "source": [
    "**Вариант 5**\n",
    "\n",
    "**Задание 1**\n",
    "\n",
    "Рассчитать значение y определив и использовав необходимую функцию\n",
    "![Процедуры.png](attachment:b23cac95-fe5c-4f68-83fb-e05a1038cb21.png)"
   ]
  },
  {
   "cell_type": "code",
   "execution_count": 5,
   "id": "365cfb23-2f94-44b6-ab4b-51ce8364ccaf",
   "metadata": {},
   "outputs": [
    {
     "name": "stdout",
     "output_type": "stream",
     "text": [
      "v = 3.1089189207103485\n"
     ]
    }
   ],
   "source": [
    "from math import sin\n",
    "\n",
    "def SumSin(num):\n",
    "    return num + sin(num)\n",
    "\n",
    "def DivSin(num1, num2):\n",
    "    return SumSin(num1) / SumSin(num2)\n",
    "\n",
    "V = DivSin(2, 5) + DivSin(6, 3) + DivSin(1, 4)\n",
    "print('v =', V)"
   ]
  },
  {
   "cell_type": "markdown",
   "id": "f13da46e-1b7d-4752-ac7f-c07b2701eb58",
   "metadata": {},
   "source": [
    "**Задарние 2**\n",
    "\n",
    "Даны два натуральных числа. Определить , является хотя бы одно из них палиндромом ( число, которое читается одинаково слева направо и справа налево), используя функцию распознавания таких чисел"
   ]
  },
  {
   "cell_type": "code",
   "execution_count": 8,
   "id": "b3259d33-5c20-41af-b0b3-206db10b51ba",
   "metadata": {},
   "outputs": [
    {
     "name": "stdin",
     "output_type": "stream",
     "text": [
      "Введите первое натуральное число:  12345\n",
      "Введите второе натуральное число:  1221\n"
     ]
    },
    {
     "name": "stdout",
     "output_type": "stream",
     "text": [
      "Хотя бы одно из них полиндром: да\n"
     ]
    }
   ],
   "source": [
    "def polin(num):\n",
    "    if str(num) == str(num)[::-1]:\n",
    "        return True\n",
    "    return False\n",
    "\n",
    "num1 = int(input('Введите первое натуральное число: '))\n",
    "num2 = int(input('Введите второе натуральное число: '))\n",
    "print('Хотя бы одно из них полиндром: {}'.format('да' if polin(num1) or polin(num2) else 'нет'))"
   ]
  },
  {
   "cell_type": "markdown",
   "id": "13d1e59f-b797-4bd0-a210-8d4cc3eb4ecc",
   "metadata": {},
   "source": [
    "**Задание 3**\n",
    "\n",
    "Составить программу для перевода данного натурального числа в р-ичную систему счисления (2 ≤ р ≤ 9)."
   ]
  },
  {
   "cell_type": "code",
   "execution_count": null,
   "id": "658dd46d-b00c-428e-9937-419da9b8cbcc",
   "metadata": {},
   "outputs": [],
   "source": [
    "def formatter(num, dec):\n",
    "    if num < dec:\n",
    "        return str(num)\n",
    "    return formatter(num//dec, dec) + str(num % dec)\n",
    "\n",
    "num = int(input('Введите натуральное число: '))\n",
    "dec = int(input('Введите систему счисления (2-9): '))\n",
    "print(formatter(num, dec))"
   ]
  },
  {
   "cell_type": "code",
   "execution_count": null,
   "id": "848045fe-6784-4a57-a5ef-278cbe4897e2",
   "metadata": {},
   "outputs": [],
   "source": []
  }
 ],
 "metadata": {
  "kernelspec": {
   "display_name": "Python 3",
   "language": "python",
   "name": "python3"
  },
  "language_info": {
   "codemirror_mode": {
    "name": "ipython",
    "version": 3
   },
   "file_extension": ".py",
   "mimetype": "text/x-python",
   "name": "python",
   "nbconvert_exporter": "python",
   "pygments_lexer": "ipython3",
   "version": "3.8.8"
  }
 },
 "nbformat": 4,
 "nbformat_minor": 5
}
