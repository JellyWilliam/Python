{
 "cells": [
  {
   "cell_type": "markdown",
   "id": "cedf9cd5-2e22-4569-abbc-2ea2cadca12a",
   "metadata": {},
   "source": [
    "**Вариант 5**\n",
    "\n",
    "1. Даны два слова. Подсчитать сколько раз во втором слове встречается первая буква первого слова. Выполнить двумя способами:\n",
    "\n",
    "а) рассматривая строку как массив символов;\n",
    "\n",
    "б) используя процедуры и функции для обработки строк."
   ]
  },
  {
   "cell_type": "code",
   "execution_count": 13,
   "id": "26940fc5-53ad-4f14-b744-47d82cc99879",
   "metadata": {},
   "outputs": [
    {
     "name": "stdin",
     "output_type": "stream",
     "text": [
      "Введите первое слово:  Еж кродется незаметно\n",
      "Введите второе слово:  Едет грека через реку\n"
     ]
    },
    {
     "name": "stdout",
     "output_type": "stream",
     "text": [
      "Во втором слове первая буква первого слова встречается: 6\n",
      "Во втором слове первая буква первого слова встречается: 6\n"
     ]
    }
   ],
   "source": [
    "word1 = str(input('Введите первое слово: ')).lower()\n",
    "word2 = str(input('Введите второе слово: ')).lower()\n",
    "\n",
    "count1 = 0\n",
    "count2 = 0\n",
    "\n",
    "# а) строка как массив:\n",
    "for i in range(len(word2)):\n",
    "    if word2[i] == word1[0]:\n",
    "        count1 += 1\n",
    "print('Во втором слове первая буква первого слова встречается:', count1)\n",
    "\n",
    "# б) процедуры и функции для строк\n",
    "print('Во втором слове первая буква первого слова встречается:', word2.count(word1[0]))"
   ]
  },
  {
   "cell_type": "markdown",
   "id": "bd078be8-21ea-4af2-8188-f81dc0ae373c",
   "metadata": {},
   "source": [
    "2. Дан текст в виде набора букв латинского алфавита, цифр и знаков операций +,-,*,/. Вывести на печать четные цифры, которые встречаются в тексте и найти их сумму."
   ]
  },
  {
   "cell_type": "code",
   "execution_count": 34,
   "id": "9b74feed-2ae4-41cb-9253-8553b198f275",
   "metadata": {},
   "outputs": [
    {
     "name": "stdout",
     "output_type": "stream",
     "text": [
      "Четные цифры, которые встречаются в тексте []\n",
      "Сумма: 0\n"
     ]
    }
   ],
   "source": [
    "# string = 'KJ3no5+2on30*3-21n8-ee99er=TF#-98'\n",
    "string = ''\n",
    "mas_num = []\n",
    "for i in range(len(string)):\n",
    "    try:\n",
    "        buf = int(string[i])\n",
    "        if buf % 2 == 0:\n",
    "            mas_num.append(buf)\n",
    "    except:\n",
    "        pass\n",
    "    \n",
    "print('Четные цифры, которые встречаются в тексте', mas_num)\n",
    "\n",
    "sum = 0\n",
    "for i in range(len(mas_num)):\n",
    "    sum += mas_num[i]\n",
    "    \n",
    "print('Сумма:', sum)"
   ]
  },
  {
   "cell_type": "markdown",
   "id": "ff64333c-69bc-44b5-82e8-0297a2fd098b",
   "metadata": {},
   "source": [
    "3. Дана строка символов, состоящая из цифр и пробелов. Группы цифр, разделенных пробелами одним или несколькими и не содержащими пробелов внутри себя, будем называть словами. Требуется подсчитать количество слов в данной строке. Рассматривай слова как числа, определить максимальное и минимальное числа, делящихся на 5 без остатка, но не делящихся на 3."
   ]
  },
  {
   "cell_type": "code",
   "execution_count": 28,
   "id": "6ef948d4-df21-4a99-a437-6890ac6b8ec2",
   "metadata": {},
   "outputs": [
    {
     "name": "stdout",
     "output_type": "stream",
     "text": [
      "8 91 77 25 5 63 793 3 2 33 56\n",
      "Слов в строке: 11\n",
      "Максимальное число, делящееся на 5 и не делящееся на 3: 25\n",
      "Минимальное число, делящееся на 5 и не делящееся на 3: 5\n",
      "\n"
     ]
    }
   ],
   "source": [
    "str_num = '8 91 77 25 5 63 793 3 2 33 56'\n",
    "mas_num = str_num.split()\n",
    "mas_num = [int(num) for num in mas_num]\n",
    "\n",
    "mas_count = len(mas_num)\n",
    "max_mas = min(mas_num)\n",
    "min_mas = max(mas_num)\n",
    "\n",
    "flag1 = False\n",
    "flag2 = False\n",
    "for num in mas_num:\n",
    "    if num % 5 == 0 and num % 3 != 0:\n",
    "        if num <= min_mas:\n",
    "            flag1 = True\n",
    "            min_mas = num\n",
    "        if num >= max_mas:\n",
    "            flag2 = True\n",
    "            max_mas = num\n",
    "\n",
    "if not flag1: min_mas = 'нет такого числа'\n",
    "if not flag2: max_mas = 'нет такого числа'\n",
    "\n",
    "print(str_num)\n",
    "print('Слов в строке: {}\\nМаксимальное число, делящееся на 5 и не делящееся на 3: {}\\nМинимальное число, делящееся на 5 и не делящееся на 3: {}\\n'.format(mas_count, max_mas, min_mas))"
   ]
  },
  {
   "cell_type": "markdown",
   "id": "e59143bf-bca5-4b38-8082-731e12f00576",
   "metadata": {},
   "source": [
    "4. На вход программе подается последовательность символов, состоящая из букв латинского алфавита и цифр. Ввод символов заканчивается восклицательным знаком.\n",
    "\n",
    "Требуется написать, как можно более эффективную программу, которая из всех нечетных цифр, встретившихся в строке, формирует наибольшее число (без повторения цифр) и выводит на экран cos этого числа. Если таких цифр нет, то программа выводит нуль."
   ]
  },
  {
   "cell_type": "code",
   "execution_count": 43,
   "id": "d32fea5a-55f0-40af-968c-0b66177f30af",
   "metadata": {},
   "outputs": [
    {
     "name": "stdin",
     "output_type": "stream",
     "text": [
      " 25y71329hrf20\n",
      " !\n"
     ]
    },
    {
     "name": "stdout",
     "output_type": "stream",
     "text": [
      "25y71329hrf20\n",
      "cos(97531) = -0.97\n"
     ]
    }
   ],
   "source": [
    "#### from math import cos\n",
    "\n",
    "# string = 'a1ab11ac1ad2ae4r4t3а1!'\n",
    "string = ''\n",
    "while True:\n",
    "    buf = input()\n",
    "    if buf == '!':\n",
    "        break\n",
    "    string += buf\n",
    "\n",
    "print(string)\n",
    "num = []\n",
    "for i in range(len(string)):\n",
    "    try:\n",
    "        buf = int(string[i])\n",
    "        if num.count(buf) == 0 and buf % 2 == 1: num.append(buf)\n",
    "    except:\n",
    "        pass\n",
    "num.sort(reverse=True)\n",
    "number = ''\n",
    "for nums in num:\n",
    "    number += str(nums)\n",
    "number = int(number)\n",
    "print('cos({}) = {:.2f}'.format(number, cos(number)))"
   ]
  },
  {
   "cell_type": "code",
   "execution_count": null,
   "id": "f3086e42-a2ae-4ce3-a752-3f66d97dcf49",
   "metadata": {},
   "outputs": [],
   "source": []
  }
 ],
 "metadata": {
  "kernelspec": {
   "display_name": "Python 3",
   "language": "python",
   "name": "python3"
  },
  "language_info": {
   "codemirror_mode": {
    "name": "ipython",
    "version": 3
   },
   "file_extension": ".py",
   "mimetype": "text/x-python",
   "name": "python",
   "nbconvert_exporter": "python",
   "pygments_lexer": "ipython3",
   "version": "3.8.8"
  }
 },
 "nbformat": 4,
 "nbformat_minor": 5
}
