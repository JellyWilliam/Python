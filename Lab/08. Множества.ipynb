{
 "cells": [
  {
   "cell_type": "markdown",
   "id": "b5ad559a-eed5-4260-a26b-97af5ccec93b",
   "metadata": {},
   "source": [
    "**Вариант 5**\n",
    "\n",
    "**Задача 1.**\n",
    "\n",
    "Составить программу, задающую 4 множества, и демонстрирующую все операции над множествами."
   ]
  },
  {
   "cell_type": "code",
   "execution_count": 16,
   "id": "108f3068-bdae-486b-9f4f-3770d1ec72f7",
   "metadata": {},
   "outputs": [
    {
     "name": "stdout",
     "output_type": "stream",
     "text": [
      "Множество A: set()\n",
      "Множество B: {1, 2, 3, 4, 5, 49, 25}\n",
      "Множество C: {'г', 'И', 'р', 'о', 'ь'}\n",
      "Множество D: {0, 1, 64, 4, 36, 9, 16, 49, 81, 25}\n",
      "\n",
      "Пример операции добавления над множеством А: {range(0, 2), 99, 'Мульти-пульти'}\n",
      "Пример операции удаления над множеством B: {2, 3, 4, 49, 25}\n",
      "Пример операции очистки над множеством C: set()\n",
      "Объединение множеств A и B: {'Мульти-пульти', 2, 99, 3, 4, range(0, 2), 49, 25}\n",
      "Пересечение множеств B и D: {49, 4, 25}\n",
      "Множество, элементы которого входят в B, но не входят в D: {2, 3}\n",
      "Элементы входят в B | D, но не входят в B & D: {0, 1, 64, 2, 36, 3, 9, 16, 81}\n",
      "Операции сравнения:\n",
      "Все элементы B и D совпадают: False\n",
      "Есть различные элементы: True\n",
      "Все элементы B входят в D: False\n"
     ]
    }
   ],
   "source": [
    "A = set()\n",
    "B = set([1, 2, 3, 4, 5, 49, 25])\n",
    "C = set('Игорь')\n",
    "D = {i ** 2 for i in range(10)}\n",
    "\n",
    "print('Множество A: {}\\nМножество B: {}\\nМножество C: {}\\nМножество D: {}\\n'.format(A, B, C, D))\n",
    "\n",
    "A.add(99)\n",
    "A.add(range(2))\n",
    "A.add('Мульти-пульти')\n",
    "print('Пример операции добавления над множеством А:', A)\n",
    "\n",
    "B.discard(1)\n",
    "B.discard(5)\n",
    "print('Пример операции удаления над множеством B:', B)\n",
    "\n",
    "C.clear()\n",
    "print('Пример операции очистки над множеством C:', C)\n",
    "\n",
    "print('Объединение множеств A и B: {}\\nПересечение множеств B и D: {}\\nМножество, элементы которого входят в B, но не входят в D: {}\\nЭлементы входят в B | D, но не входят в B & D: {}'.format(A|B, B&D, B-D, B^D))\n",
    "\n",
    "print('Операции сравнения:\\nВсе элементы B и D совпадают: {}\\nЕсть различные элементы: {}\\nВсе элементы B входят в D: {}'.format(D == B, D != B, B <= D))"
   ]
  },
  {
   "cell_type": "markdown",
   "id": "c326cd59-a0d5-43c7-a12f-60286ebc703d",
   "metadata": {},
   "source": [
    "**Задача 2.** type natur = 1..maxint;\n",
    "\n",
    "Описать процедуру print(n), печатающую в возрастающем порядке все цифры, не входящие в десятичную запись натурального числа n. Составить программу, использующую эту процедуру."
   ]
  },
  {
   "cell_type": "code",
   "execution_count": 51,
   "id": "07551c1a-d7ad-4887-a8bd-534e06467308",
   "metadata": {},
   "outputs": [
    {
     "name": "stdout",
     "output_type": "stream",
     "text": [
      "Цифры, не входящие в десятичную запись числа 1234567890:\n",
      "[]\n"
     ]
    }
   ],
   "source": [
    "def Print(n):\n",
    "    collect = set(str(n))\n",
    "    number = {str(i) for i in range(10)}\n",
    "    print('Цифры, не входящие в десятичную запись числа {}:\\n{}'.format(n, sorted(number-collect)))\n",
    "\n",
    "number = 1234567890\n",
    "Print(number)"
   ]
  },
  {
   "cell_type": "markdown",
   "id": "6d79e188-ecd9-4be6-b20f-d870541f8aed",
   "metadata": {},
   "source": [
    "**Задача 3.**\n",
    "\n",
    "Дана строка из произвольных символов. Определить, каких букв больше – латинских гласных или латинских согласных? При подсчете учитывать и прописные, и строчные буквы. "
   ]
  },
  {
   "cell_type": "code",
   "execution_count": 50,
   "id": "0f800708-bcc8-43f0-a0ec-841551db84f5",
   "metadata": {},
   "outputs": [
    {
     "name": "stdout",
     "output_type": "stream",
     "text": [
      "Согласных больше\n"
     ]
    }
   ],
   "source": [
    "glas = set('aeyuio')\n",
    "soglas = set('qwrtpsdfghjklzxcvbnm')\n",
    "\n",
    "string = 'as a tribute to his noble, magnificent and versatile poetry, which has always been distinguished by both the freshness of its inspiration and the rare purity of its spirit'\n",
    "# string = 'aeyuioqwr' (гласных букв больше)\n",
    "string_set = set(string)\n",
    "\n",
    "# print(string_set)\n",
    "# Гласные: a, e, y, u, i, o\n",
    "# Согласные: r, g, p, l , w, c, f, m, b, v, s, d, n, t, h\n",
    "\n",
    "print('Гласных букв больше' if len(string_set&glas) > len(string_set&soglas) else 'Согласных больше')"
   ]
  },
  {
   "cell_type": "code",
   "execution_count": null,
   "id": "915b148e-ae47-4b3b-8937-ace5441da056",
   "metadata": {},
   "outputs": [],
   "source": []
  }
 ],
 "metadata": {
  "kernelspec": {
   "display_name": "Python 3",
   "language": "python",
   "name": "python3"
  },
  "language_info": {
   "codemirror_mode": {
    "name": "ipython",
    "version": 3
   },
   "file_extension": ".py",
   "mimetype": "text/x-python",
   "name": "python",
   "nbconvert_exporter": "python",
   "pygments_lexer": "ipython3",
   "version": "3.8.8"
  }
 },
 "nbformat": 4,
 "nbformat_minor": 5
}
