{
 "cells": [
  {
   "cell_type": "markdown",
   "id": "8010f5d1-dae1-41f9-929f-2ef22a287ce6",
   "metadata": {},
   "source": [
    "**Вариант 5.**\n",
    "\n",
    "Даны два файла словарей: en-ru.txt и ru-en.txt в таком в формате\n",
    "\n",
    "en-ru.txt:\n",
    "+ home - домашняя папка\n",
    "+ mouse - манипулятор мышь\n",
    "\n",
    "ru-en.txt:\n",
    "+ дом - home\n",
    "+ мышь - mouse\n",
    "\n",
    "Требуется синхронизировать и актуализировать их содержимое.\n",
    "\n",
    "en-ru.txt:\n",
    "+ home - домашняя папка, дом\n",
    "+ mouse - манипулятор мышь, мышь\n",
    "\n",
    "ru-en.txt:\n",
    "+ дом - home\n",
    "+ домашняя папка - home\n",
    "+ манипулятор мышь - mouse\n",
    "+ мышь – mouse"
   ]
  },
  {
   "cell_type": "code",
   "execution_count": 2,
   "id": "f109dd40-ff1c-4990-b42c-89b8aab9e6d0",
   "metadata": {},
   "outputs": [],
   "source": [
    "import codecs\n",
    "\n",
    "file1 = codecs.open('en-ru.txt', mode='r', encoding='utf-8')\n",
    "file2 = codecs.open('ru-en.txt', mode='r', encoding='utf-8')\n",
    "dic = {}\n",
    "dic1 = {}\n",
    "\n",
    "for line in file1:\n",
    "    buf = line.replace(\"\\n\", \"\").split(' - ')\n",
    "    dic[buf[0]] = [buf[1]]\n",
    "\n",
    "for line in file2:\n",
    "    buf = line.replace(\"\\n\", \"\").split(' - ')\n",
    "    dic[buf[1]].append(buf[0])\n",
    "\n",
    "file1.close()\n",
    "file2.close()\n",
    "file1 = codecs.open('en-ru.txt', mode='w', encoding='utf-8')\n",
    "\n",
    "for key, val in dic.items():\n",
    "    file1.write('{} - {}\\n'.format(key, (', '.join(j for j in val))))\n",
    "\n",
    "\n",
    "for key, val in dic.items():\n",
    "    for v in val:\n",
    "        dic1[v] = key\n",
    "\n",
    "file2 = codecs.open('ru-en.txt', mode='w', encoding='utf-8')\n",
    "\n",
    "for key, val in dic1.items():\n",
    "    file2.write('{} - {}\\n'.format(key, val))\n",
    "\n",
    "file1.close()\n",
    "file2.close()"
   ]
  },
  {
   "cell_type": "code",
   "execution_count": null,
   "id": "b72d4797-444d-4026-9bd9-e883b45365c2",
   "metadata": {},
   "outputs": [],
   "source": []
  }
 ],
 "metadata": {
  "kernelspec": {
   "display_name": "Python 3",
   "language": "python",
   "name": "python3"
  },
  "language_info": {
   "codemirror_mode": {
    "name": "ipython",
    "version": 3
   },
   "file_extension": ".py",
   "mimetype": "text/x-python",
   "name": "python",
   "nbconvert_exporter": "python",
   "pygments_lexer": "ipython3",
   "version": "3.8.8"
  }
 },
 "nbformat": 4,
 "nbformat_minor": 5
}
