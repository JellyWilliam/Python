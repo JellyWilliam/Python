{
 "cells": [
  {
   "cell_type": "markdown",
   "id": "b504ee78-5ca4-4267-8e02-d269f2a2c47f",
   "metadata": {},
   "source": [
    "**Вариант 5**\n",
    "\n",
    "1. Дан файл, в каждой строке которого записаны слова и числа. Найти для каждой строки количество слов и переписать их в другой файл в соответствующую строку."
   ]
  },
  {
   "cell_type": "code",
   "execution_count": 71,
   "id": "36ab8993-7c16-440b-a3ec-ab6379d98518",
   "metadata": {},
   "outputs": [
    {
     "name": "stdout",
     "output_type": "stream",
     "text": [
      "В 1 строке - 11 слов\n",
      "\n",
      "В 2 строке - 4 слов\n",
      "\n",
      "В 3 строке - 4 слов\n",
      "\n",
      "В 4 строке - 5 слов\n",
      "\n"
     ]
    }
   ],
   "source": [
    "file1 = open('text.txt')\n",
    "\n",
    "words_count = []\n",
    "words = []\n",
    "for line in file1:\n",
    "    buf = line.split()\n",
    "    count = 0\n",
    "    words_str = []\n",
    "    for word in buf:\n",
    "        try:\n",
    "            float(word)\n",
    "        except:\n",
    "            count += 1\n",
    "            words_str.append(word)\n",
    "    words_count.append(count)\n",
    "    words.append(words_str)\n",
    "\n",
    "i = 1\n",
    "for count in words_count:\n",
    "    print('В {} строке - {} слов\\n'.format(i, count))\n",
    "    i += 1\n",
    "\n",
    "file2 = open('buffer.txt', 'w')\n",
    "for string in words:\n",
    "    for word in string:\n",
    "        file2.write(word + ' ')\n",
    "    file2.write('\\n')\n",
    "    \n",
    "file1.close()\n",
    "file2.close()"
   ]
  },
  {
   "cell_type": "markdown",
   "id": "d709acc7-b9fd-48aa-bfb5-200b2f5ba2d0",
   "metadata": {},
   "source": [
    "2. Создать текстовый файл с произвольной информацией. Организовать просмотр содержимого файла. «Пациент»:фамилия; имя; отчество; пол; национальность; рост; вес; дата рождения (год, месяц число); номер телефона; домашний адрес (почтовый индекс, страна, область, район, город, улица, дом, квартира); номер больницы; отделение; номер медицинской карты; диагноз; группа крови. Вывести данные про пациентов с 18 отделения. Организовать чтение и обработку данных из файла в соответствии с индивидуальным заданием. Сохранить полученные результаты в новый текстовый файл\n",
    "\n",
    "(сделал в Spyder)"
   ]
  }
 ],
 "metadata": {
  "kernelspec": {
   "display_name": "Python 3",
   "language": "python",
   "name": "python3"
  },
  "language_info": {
   "codemirror_mode": {
    "name": "ipython",
    "version": 3
   },
   "file_extension": ".py",
   "mimetype": "text/x-python",
   "name": "python",
   "nbconvert_exporter": "python",
   "pygments_lexer": "ipython3",
   "version": "3.8.8"
  }
 },
 "nbformat": 4,
 "nbformat_minor": 5
}
