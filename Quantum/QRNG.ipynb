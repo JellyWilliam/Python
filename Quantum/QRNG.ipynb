{
 "cells": [
  {
   "cell_type": "code",
   "execution_count": 1,
   "id": "c1081ce7-2d42-46d7-9878-c2b009ab1d31",
   "metadata": {},
   "outputs": [],
   "source": [
    "from abc import ABCMeta, abstractmethod\n",
    "from contextlib import contextmanager\n",
    "class Qubit(metaclass=ABCMeta):\n",
    "    @abstractmethod\n",
    "    def h(self): pass\n",
    "\n",
    "    @abstractmethod\n",
    "    def measure(self) -> bool: pass\n",
    "\n",
    "    @abstractmethod\n",
    "    def reset(self): pass\n",
    "\n",
    "class QuantumDevice(metaclass=ABCMeta):\n",
    "    @abstractmethod\n",
    "    def allocate_qubit(self) -> Qubit:\n",
    "        pass\n",
    "\n",
    "    @abstractmethod\n",
    "    def deallocate_qubit(self, qubit: Qubit):\n",
    "        pass\n",
    "\n",
    "    @contextmanager\n",
    "    def using_qubit(self):\n",
    "        qubit = self.allocate_qubit()\n",
    "        try:\n",
    "            yield qubit\n",
    "        finally:\n",
    "            qubit.reset()\n",
    "            self.deallocate_qubit(qubit)\n"
   ]
  },
  {
   "cell_type": "code",
   "execution_count": 2,
   "id": "56db7976-548d-4e10-a1bb-0fb1e005d03a",
   "metadata": {},
   "outputs": [],
   "source": [
    "from interface import QuantumDevice, Qubit\n",
    "import numpy as np\n",
    "\n",
    "KET_0 = np.array([\n",
    "    [1],\n",
    "    [0]\n",
    "], dtype=complex)\n",
    "H = np.array([\n",
    "    [1, 1],\n",
    "    [1, -1]\n",
    "], dtype=complex) / np.sqrt(2)\n",
    "\n",
    "class SimulatedQubit(Qubit):\n",
    "    def __init__(self):\n",
    "        self.reset()\n",
    "\n",
    "    def h(self):\n",
    "        self.state = H @ self.state\n",
    "\n",
    "    def measure(self) -> bool:\n",
    "        pr0 = np.abs(self.state[0, 0]) ** 2\n",
    "        sample = np.random.random() <= pr0\n",
    "        return bool(0 if sample else 1)\n",
    "\n",
    "    def reset(self):\n",
    "        self.state = KET_0.copy()\n",
    "\n",
    "class SingleQubitSimulator(QuantumDevice):\n",
    "    available_qubits = [SimulatedQubit()]\n",
    "\n",
    "    def allocate_qubit(self) -> SimulatedQubit:\n",
    "        if self.available_qubits:\n",
    "            return self.available_qubits.pop()\n",
    "\n",
    "    def deallocate_qubit(self, qubit: SimulatedQubit):\n",
    "        self.available_qubits.append(qubit)"
   ]
  },
  {
   "cell_type": "code",
   "execution_count": 3,
   "id": "b5ce2197-3d65-4638-af0b-447f4cd2f452",
   "metadata": {},
   "outputs": [
    {
     "name": "stdout",
     "output_type": "stream",
     "text": [
      "QRNG-генератор вернул True.\n",
      "QRNG-генератор вернул False.\n",
      "QRNG-генератор вернул False.\n",
      "QRNG-генератор вернул True.\n",
      "QRNG-генератор вернул False.\n",
      "QRNG-генератор вернул True.\n",
      "QRNG-генератор вернул True.\n",
      "QRNG-генератор вернул False.\n",
      "QRNG-генератор вернул False.\n",
      "QRNG-генератор вернул True.\n"
     ]
    }
   ],
   "source": [
    "from interface import QuantumDevice\n",
    "from simulator import SingleQubitSimulator\n",
    "\n",
    "def qrng(device: QuantumDevice) -> bool:\n",
    "    with device.using_qubit() as q:\n",
    "        q.h()\n",
    "        return q.measure()\n",
    "\n",
    "if __name__ == \"__main__\":\n",
    "    qsim = SingleQubitSimulator()\n",
    "    for idx_sample in range(10):\n",
    "        random_sample = qrng(qsim)\n",
    "        print(f\"QRNG-генератор вернул {random_sample}.\")"
   ]
  },
  {
   "cell_type": "code",
   "execution_count": null,
   "id": "dfe40370-53bf-4270-9b5b-fbeca9ce45aa",
   "metadata": {},
   "outputs": [],
   "source": []
  }
 ],
 "metadata": {
  "kernelspec": {
   "display_name": "Python 3 (ipykernel)",
   "language": "python",
   "name": "python3"
  },
  "language_info": {
   "codemirror_mode": {
    "name": "ipython",
    "version": 3
   },
   "file_extension": ".py",
   "mimetype": "text/x-python",
   "name": "python",
   "nbconvert_exporter": "python",
   "pygments_lexer": "ipython3",
   "version": "3.7.12"
  }
 },
 "nbformat": 4,
 "nbformat_minor": 5
}
