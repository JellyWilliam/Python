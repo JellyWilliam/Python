{
 "cells": [
  {
   "cell_type": "markdown",
   "id": "9a5e4136-29c9-400b-8c81-2767ffe9ace9",
   "metadata": {},
   "source": [
    "**Вариант 5**\n",
    "\n",
    "**Уровень 1**\n",
    "\n",
    "В одномерном массиве, состоящем из n целых элементов, определить:\n",
    "-\tколичество элементов, отличных от последнего элемента;\n",
    "-\tпроизведение элементов, кратных a;\n",
    "-\tсумму элементов массива, принадлежащих промежутку от a до b.\n"
   ]
  },
  {
   "cell_type": "code",
   "execution_count": 5,
   "id": "9f48b472-0cc0-4e14-a072-51c4124c62cd",
   "metadata": {},
   "outputs": [
    {
     "name": "stdout",
     "output_type": "stream",
     "text": [
      "Остановка ввода словом\n"
     ]
    },
    {
     "name": "stdin",
     "output_type": "stream",
     "text": [
      "Введите 1 число массива:  -6\n",
      "Введите 2 число массива:  4\n",
      "Введите 3 число массива:  -3\n",
      "Введите 4 число массива:  95\n",
      "Введите 5 число массива:  0\n",
      "Введите 6 число массива:  49\n",
      "Введите 7 число массива:  -2\n",
      "Введите 8 число массива:  4\n",
      "Введите 9 число массива:  -45\n",
      "Введите 10 число массива:  sfjdvn\n"
     ]
    },
    {
     "data": {
      "text/plain": [
       "[-6, 4, -3, 95, 0, 49, -2, 4, -45]"
      ]
     },
     "execution_count": 5,
     "metadata": {},
     "output_type": "execute_result"
    }
   ],
   "source": [
    "mas = []\n",
    "i = 1\n",
    "print(\"Остановка ввода словом\")\n",
    "while True:\n",
    "    try:\n",
    "        inp = int(input(\"Введите {} число массива: \".format(i)))\n",
    "    except ValueError:\n",
    "        break\n",
    "    i += 1\n",
    "    mas.append(inp)\n",
    "#import random\n",
    "#n = int(input(\"Введите колличество эллементво в массиве: \"))\n",
    "#mas = [random.randint(-100, 100) for i in range(n)]\n",
    "mas"
   ]
  },
  {
   "cell_type": "code",
   "execution_count": 6,
   "id": "f6655b88-8b0a-4414-842e-a7ec725aa6b5",
   "metadata": {},
   "outputs": [
    {
     "name": "stdin",
     "output_type": "stream",
     "text": [
      "Введите число a:  5\n"
     ]
    },
    {
     "name": "stdout",
     "output_type": "stream",
     "text": [
      "Количество элементов, отличных от последнего элемента: 8\n",
      "Произведение элементов, кратных 5 : 0\n"
     ]
    }
   ],
   "source": [
    "a = int(input(\"Введите число a: \"))\n",
    "\n",
    "other = 0\n",
    "multiplication = 1\n",
    "\n",
    "for i in range(len(mas)-1):\n",
    "    if mas[i] != mas[-1]:\n",
    "        other += 1\n",
    "    if mas[i] % a == 0:\n",
    "        multiplication *= mas[i]\n",
    "\n",
    "print(\"Количество элементов, отличных от последнего элемента:\", other)\n",
    "print(\"Произведение элементов, кратных {} : {}\".format(a, multiplication))"
   ]
  },
  {
   "cell_type": "code",
   "execution_count": 7,
   "id": "a9f450b7-3a38-4e39-be23-afd9d12c30bd",
   "metadata": {},
   "outputs": [
    {
     "name": "stdin",
     "output_type": "stream",
     "text": [
      "Введите число a :  0\n",
      "Введите число b :  10\n"
     ]
    },
    {
     "name": "stdout",
     "output_type": "stream",
     "text": [
      "4\n",
      "4\n",
      "Сумма элементов массива, принадлежащих промежутку от 0 до 10: 8\n"
     ]
    }
   ],
   "source": [
    "a = int(input(\"Введите число a : \"))\n",
    "b = int(input(\"Введите число b : \"))\n",
    "summ = 0\n",
    "\n",
    "for i in mas:\n",
    "    if i > a and i < b: \n",
    "        print(i)\n",
    "        summ += i\n",
    "\n",
    "print(\"Сумма элементов массива, принадлежащих промежутку от {} до {}: {}\".format(a, b, summ))"
   ]
  },
  {
   "cell_type": "markdown",
   "id": "2f2b7002-05c3-4512-8ec5-4ac3e8f52830",
   "metadata": {},
   "source": [
    "**Уровень 2.**\n",
    "\n",
    "1.\tВ одномерном массиве, состоящем из n целых элементов, найти первую пару чисел, сумма которых, кратна сумме их индексов. \n",
    "2.\tВ одномерном массиве, состоящем из n вещественных чисел удалить элементы меньше заданного числа k.\n",
    "3.\tВ одномерный массив, состоящий из n целых чисел вставить новый элемент после всех нечетных элементов кратных 3"
   ]
  },
  {
   "cell_type": "code",
   "execution_count": 9,
   "id": "7fe70b6c-cef7-4354-9820-162ec82cb81f",
   "metadata": {},
   "outputs": [
    {
     "name": "stdout",
     "output_type": "stream",
     "text": [
      "(-6+4)%(0+1)\n"
     ]
    }
   ],
   "source": [
    "flag = 0\n",
    "for i in range(len(mas)-1):\n",
    "    for j in range(i+1,len(mas)-1):\n",
    "        if (mas[i] + mas[j]) % (i + j) == 0:\n",
    "            flag = 1\n",
    "            print(\"({}+{})%({}+{})\".format(mas[i], mas[j], i, j))\n",
    "            break\n",
    "    if flag == 1: break\n",
    "\n",
    "if flag == 0: print(\"Нет такой пары\")"
   ]
  },
  {
   "cell_type": "code",
   "execution_count": 11,
   "id": "e8ad7516-3a97-4138-ae05-0c5e441ed3cf",
   "metadata": {},
   "outputs": [
    {
     "name": "stdin",
     "output_type": "stream",
     "text": [
      "Введите колличество эллементво в массиве:  20\n"
     ]
    },
    {
     "name": "stdout",
     "output_type": "stream",
     "text": [
      "[-90.103, 50.5345, -19.3592, -91.5694, -43.0194, -2.11, -3.1942, 44.3308, 7.1328, 99.0099, 88.2779, -23.9589, -42.9363, -86.987, 1.7363, -45.0079, -54.9211, 95.1037, 93.9743, 48.2696]\n"
     ]
    },
    {
     "name": "stdin",
     "output_type": "stream",
     "text": [
      "Введиет число k:  50\n"
     ]
    },
    {
     "data": {
      "text/plain": [
       "[50.5345, 99.0099, 88.2779, 95.1037, 93.9743, 48.2696]"
      ]
     },
     "execution_count": 11,
     "metadata": {},
     "output_type": "execute_result"
    }
   ],
   "source": [
    "#В одномерном массиве, состоящем из n вещественных чисел удалить элементы меньше заданного числа k.\n",
    "import random\n",
    "\n",
    "n = int(input(\"Введите колличество эллементво в массиве: \"))\n",
    "mas_del = [round(random.uniform(-100, 100), 4) for i in range(n)]\n",
    "print(mas_del)\n",
    "k = float(input(\"Введиет число k: \"))\n",
    "\n",
    "# 1 вариант\n",
    "# buf = []\n",
    "# for i in range(len(mas_del)-1):\n",
    "#     if(mas_del[i] > k):\n",
    "#         buf.append(mas_del[i])\n",
    "\n",
    "# 2 вариант\n",
    "# i = 0 \n",
    "# while i < len(mas_del)-1:\n",
    "#     if(mas_del[i] < k):\n",
    "#         del mas_del[i]\n",
    "#     else:\n",
    "#         i += 1\n",
    "\n",
    "for i in range(len(mas_del)-1):\n",
    "    if(mas_del[i] < k):\n",
    "        mas_del[i] = None\n",
    "mas_del = [value for value in mas_del if value]\n",
    "mas_del"
   ]
  },
  {
   "cell_type": "code",
   "execution_count": 5,
   "id": "88109287-58bb-4fa6-8dd4-70cbc7dac4c7",
   "metadata": {},
   "outputs": [
    {
     "name": "stdin",
     "output_type": "stream",
     "text": [
      "Введите колличество эллементво в массиве:  40\n"
     ]
    },
    {
     "name": "stdout",
     "output_type": "stream",
     "text": [
      "[-2, -5, -7, 1, 3, 6, -6, 10, 9, -5, -2, -3, 10, -7, -2, -2, 1, -9, -5, 7, -5, -10, 4, -2, -8, -6, 3, -4, 10, -4, -2, 1, 5, -9, 5, -10, 6, -7, 6, 7]\n"
     ]
    },
    {
     "name": "stdin",
     "output_type": "stream",
     "text": [
      "Введиет новый элемент:  100\n"
     ]
    },
    {
     "name": "stdout",
     "output_type": "stream",
     "text": [
      "[-2, -5, -7, 1, 3, 100, 6, -6, 10, 9, 100, -5, -2, -3, 100, 10, -7, -2, -2, 1, -9, 100, -5, 7, -5, -10, 4, -2, -8, -6, 3, 100, -4, 10, -4, -2, 1, 5, -9, 100, 5, -10, 6, -7, 6, 7]\n"
     ]
    }
   ],
   "source": [
    "# В одномерный массив, состоящий из n целых чисел вставить новый элемент после всех нечетных элементов кратных 3\n",
    "import random\n",
    "n = int(input(\"Введите колличество эллементво в массиве: \"))\n",
    "mas_in = [random.randint(-10, 10) for i in range(n)]\n",
    "\n",
    "# mas_in = [4, 3, 10, 12, 6, -3, 8, 10, 11, 44]\n",
    "print(mas_in)\n",
    "new_el = int(input(\"Введиет новый элемент: \"))\n",
    "i = 0\n",
    "while i < len(mas_in) - 1:\n",
    "    if mas_in[i] % 2 == 1 and mas_in[i] % 3 == 0:\n",
    "        mas_in.insert(i+1, new_el)\n",
    "        i += 1\n",
    "    i += 1\n",
    "print(mas_in)"
   ]
  },
  {
   "cell_type": "markdown",
   "id": "b87b0759-57c5-4c49-b19e-82375ed22f5f",
   "metadata": {},
   "source": [
    "**Уровень 3**\n",
    "\n",
    "1.\tВ одномерном массиве, состоящем из п целых элементов. Упорядочить элементы массива с нечетными индексами по невозрастанию.\n",
    "2.\tДан целочисленный массив A размера N. Переписать в новый целочисленный массив B того же размера вначале все элементы исходного массива с четными номерами, а затем — с нечетными: A2, A4, A6, …, A1, A3, A5, … .\n"
   ]
  },
  {
   "cell_type": "code",
   "execution_count": 6,
   "id": "284d278c-fd90-4cf9-b44f-e5819772468e",
   "metadata": {},
   "outputs": [
    {
     "name": "stdin",
     "output_type": "stream",
     "text": [
      "Введите количество элементов массива:  20\n"
     ]
    },
    {
     "name": "stdout",
     "output_type": "stream",
     "text": [
      "[-36, 16, 71, 64, -52, 97, -39, 76, -5, -24, 47, 2, -75, 25, 14, 69, -36, 40, -25, -53]\n",
      "[16, 64, 97, 76, -24, 2, 25, 69, 40]\n",
      "[97, 76, 69, 64, 40, 25, 16, 2, -24]\n",
      "Массив с упорядоченными по убыванию элементами с нечетными индексами [-36, 97, 71, 76, -52, 69, -39, 64, -5, 40, 47, 25, -75, 16, 14, 2, -36, -24, -25, -53]\n"
     ]
    }
   ],
   "source": [
    "n = int(input(\"Введите количество элементов массива: \"))\n",
    "mas_reg = [random.randint(-100, 100) for i in range(n)]\n",
    "print(mas_reg)\n",
    "mas_buf = []\n",
    "for i in range(len(mas_reg)-1):\n",
    "    if i % 2 == 1:\n",
    "        mas_buf.append(mas_reg[i])\n",
    "print(mas_buf)\n",
    "mas_buf.sort(reverse=True)\n",
    "\n",
    "print(mas_buf)\n",
    "j = 0\n",
    "for i in range(len(mas_reg)-1):\n",
    "    if i % 2 == 1:\n",
    "        mas_reg[i] = mas_buf[j]\n",
    "        j += 1\n",
    "print(\"Массив с упорядоченными по убыванию элементами с нечетными индексами\",mas_reg)"
   ]
  },
  {
   "cell_type": "code",
   "execution_count": 24,
   "id": "dd5d1d97-1021-4418-8236-cb3c45c61daf",
   "metadata": {},
   "outputs": [
    {
     "name": "stdin",
     "output_type": "stream",
     "text": [
      "Введите количество элементов массива:  15\n"
     ]
    },
    {
     "name": "stdout",
     "output_type": "stream",
     "text": [
      "[81, 50, -39, -37, 48, 26, -13, 71, 58, -28, -32, -8, -27, -33, -75]\n",
      "[81, -39, 48, -13, 58, -32, -27, -75, 50, -37, 26, 71, -28, -8, -33]\n"
     ]
    }
   ],
   "source": [
    "#Дан целочисленный массив A размера N.\n",
    "#Переписать в новый целочисленный массив B того же размера вначале все элементы исходного массива с четными номерами,\n",
    "#а затем — с нечетными: A2, A4, A6, …, A1, A3, A5, … .\n",
    "N = int(input(\"Введите количество элементов массива: \"))\n",
    "A = [random.randint(-100, 100) for i in range(N)]\n",
    "print(A)\n",
    "B = []\n",
    "j = 0\n",
    "\n",
    "for i in range(len(A)):\n",
    "    if i % 2 == 0:\n",
    "        B.insert(j, A[i])\n",
    "        j += 1\n",
    "    else:\n",
    "        B.append(A[i])\n",
    "\n",
    "print(B)"
   ]
  },
  {
   "cell_type": "code",
   "execution_count": null,
   "id": "cdc2b4aa-1515-429f-b3ee-b982a5b52a9f",
   "metadata": {},
   "outputs": [],
   "source": []
  }
 ],
 "metadata": {
  "kernelspec": {
   "display_name": "Python 3",
   "language": "python",
   "name": "python3"
  },
  "language_info": {
   "codemirror_mode": {
    "name": "ipython",
    "version": 3
   },
   "file_extension": ".py",
   "mimetype": "text/x-python",
   "name": "python",
   "nbconvert_exporter": "python",
   "pygments_lexer": "ipython3",
   "version": "3.8.8"
  }
 },
 "nbformat": 4,
 "nbformat_minor": 5
}
