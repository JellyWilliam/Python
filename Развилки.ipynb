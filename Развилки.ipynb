{
 "cells": [
  {
   "cell_type": "markdown",
   "id": "b7506637-2ae0-4f29-99bf-deaf81490e60",
   "metadata": {},
   "source": [
    "**Задание 1.**"
   ]
  },
  {
   "cell_type": "markdown",
   "id": "9f396637-134c-4a0c-9f25-563098859312",
   "metadata": {},
   "source": [
    "**Даны вещественные положительные числа a, b, c, d.  Выяснить, можно ли прямоугольник  a, b уместить внутрь прямоугольника со сторонами c,d так, чтобы каждая из сторон одного прямоугольника была параллельна или перпендикулярна каждой стороне второго прямоугольника.**"
   ]
  },
  {
   "cell_type": "code",
   "execution_count": 3,
   "id": "945b7333-63cb-4375-994e-a598fb2b5259",
   "metadata": {},
   "outputs": [
    {
     "name": "stdin",
     "output_type": "stream",
     "text": [
      "Введите положительное число a:  -3\n",
      "Введите положительное число b:  3\n",
      "Введите положительное число c:  3\n",
      "Введите положительное число d:  3\n"
     ]
    },
    {
     "name": "stdout",
     "output_type": "stream",
     "text": [
      "Введите ПОЛОЖИТЕЛЬНЫЕ числа\n"
     ]
    },
    {
     "name": "stdin",
     "output_type": "stream",
     "text": [
      "Введите положительное число a:  6\n",
      "Введите положительное число b:  4\n",
      "Введите положительное число c:  23\n",
      "Введите положительное число d:  6\n"
     ]
    }
   ],
   "source": [
    "while True:\n",
    "    a = float(input(\"Введите положительное число a: \"))\n",
    "    b = float(input(\"Введите положительное число b: \"))\n",
    "    c = float(input(\"Введите положительное число c: \"))\n",
    "    d = float(input(\"Введите положительное число d: \"))\n",
    "    if(a > 0 and b > 0 and c > 0 and d > 0):\n",
    "        break\n",
    "    else:\n",
    "        print(\"Введите ПОЛОЖИТЕЛЬНЫЕ числа\")"
   ]
  },
  {
   "cell_type": "code",
   "execution_count": 4,
   "id": "328269dd-b242-4fc6-bd90-08894e0d3fea",
   "metadata": {},
   "outputs": [
    {
     "name": "stdout",
     "output_type": "stream",
     "text": [
      "Можно\n"
     ]
    }
   ],
   "source": [
    "if ((a < c) and (b < d)) or ((a < d) and (b < c)):\n",
    "    print(\"Можно\")\n",
    "else:\n",
    "    print(\"Нельзя\")"
   ]
  },
  {
   "cell_type": "markdown",
   "id": "61ab8a40-c577-4231-8746-023893b85e2a",
   "metadata": {},
   "source": [
    "**Задание 2**"
   ]
  },
  {
   "cell_type": "markdown",
   "id": "7a165fd9-d40d-490f-8856-5662668d0184",
   "metadata": {},
   "source": [
    "**5. С начала 2010 года прошло n  месяцев и 2 дня (n >=1). Определить название месяца (январь, февраль и т.п.) этого дня.**"
   ]
  },
  {
   "cell_type": "code",
   "execution_count": 2,
   "id": "198f6f9a-9f6b-4904-b15d-3a58549ea5df",
   "metadata": {},
   "outputs": [
    {
     "name": "stdin",
     "output_type": "stream",
     "text": [
      "Введите число число месяцев:  74\n"
     ]
    }
   ],
   "source": [
    "while True:\n",
    "    n = int(input(\"Введите число число месяцев: \"))\n",
    "    if n < 1:\n",
    "        print(\"Проверьте правильность ввода!!!\")\n",
    "    else:\n",
    "        break\n",
    "\n",
    "y = n // 12\n",
    "m = n % 12"
   ]
  },
  {
   "cell_type": "code",
   "execution_count": 16,
   "id": "053d8642-788b-43e0-b5be-cf380e765160",
   "metadata": {},
   "outputs": [
    {
     "name": "stdout",
     "output_type": "stream",
     "text": [
      "March\n"
     ]
    }
   ],
   "source": [
    "from datetime import date\n",
    "from dateutil.relativedelta import relativedelta\n",
    "\n",
    "start_year = date(2010, 1, 1)\n",
    "plus_date = relativedelta(days=2, month=m+1, years=y)\n",
    "finish_date = start_year + plus_date\n",
    "\n",
    "print(finish_date.strftime('%B'))"
   ]
  }
 ],
 "metadata": {
  "kernelspec": {
   "display_name": "Python 3",
   "language": "python",
   "name": "python3"
  },
  "language_info": {
   "codemirror_mode": {
    "name": "ipython",
    "version": 3
   },
   "file_extension": ".py",
   "mimetype": "text/x-python",
   "name": "python",
   "nbconvert_exporter": "python",
   "pygments_lexer": "ipython3",
   "version": "3.8.8"
  }
 },
 "nbformat": 4,
 "nbformat_minor": 5
}
