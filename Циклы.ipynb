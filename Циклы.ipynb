{
 "cells": [
  {
   "cell_type": "markdown",
   "id": "e8667f72-522f-42ae-a74a-980cd8291879",
   "metadata": {},
   "source": [
    "**Задание 1.**"
   ]
  },
  {
   "cell_type": "markdown",
   "id": "0d1d232c-775c-4c7d-bfa2-cf90c548fae3",
   "metadata": {},
   "source": [
    "**Вариант №5** \n",
    "1. Дано натуральное число:\n",
    "•    найти первую и последнюю цифры числа;\n",
    "•    верно ли, что сумма цифр данного числа равна А (А вводится с клавиатуры).\n",
    "2.   Найти все трехзначные числа, которые при делении на 2 дают остаток 1, при делении на 3 — остаток 2, при делении на 4 — остаток 3, а само число делится на 5.\n",
    "3.  Дано натуральное число. Приписать к нему такое же.\n"
   ]
  },
  {
   "cell_type": "code",
   "execution_count": 9,
   "id": "3a701b77-e09d-4305-a6d1-d4101d7da473",
   "metadata": {},
   "outputs": [
    {
     "name": "stdin",
     "output_type": "stream",
     "text": [
      "Введите натуральное число N:  1780\n",
      "Введите натуральное число A:  16\n"
     ]
    }
   ],
   "source": [
    "# 1\n",
    "while True:\n",
    "    N = int(input(\"Введите натуральное число N: \"))\n",
    "    A = int(input(\"Введите натуральное число A: \"))\n",
    "    if N < 1 or A < 1:\n",
    "        print(\"Проверьте правильность ввода!!!\")\n",
    "    else:\n",
    "        break"
   ]
  },
  {
   "cell_type": "code",
   "execution_count": 10,
   "id": "72c3cc4a-bc90-4647-a6e6-1d69dae12816",
   "metadata": {},
   "outputs": [
    {
     "name": "stdout",
     "output_type": "stream",
     "text": [
      "Первая цифра числа N: 1\n",
      "Последняя цифра числа N: 0\n",
      "Сумма цифр данного числа N равна А = 16\n"
     ]
    }
   ],
   "source": [
    "N_end = N % 10\n",
    "N_start = N\n",
    "\n",
    "for i in range(1, len(str(N))):\n",
    "    N_start //= 10\n",
    "\n",
    "print(\"Первая цифра числа N: {}\\nПоследняя цифра числа N: {}\".format(N_start,N_end))\n",
    "\n",
    "summ = 0\n",
    "buf = N\n",
    "\n",
    "for i in range(len(str(N))):\n",
    "    summ += buf % 10\n",
    "    buf //= 10\n",
    "\n",
    "if summ != A:\n",
    "    print(\"Сумма цифр данного числа N НЕ равна А =\", A)\n",
    "else:\n",
    "    print(\"Сумма цифр данного числа N равна А =\", A)"
   ]
  },
  {
   "cell_type": "code",
   "execution_count": 4,
   "id": "19193a2d-fd94-4e40-a30e-a2980430d8b9",
   "metadata": {},
   "outputs": [
    {
     "name": "stdout",
     "output_type": "stream",
     "text": [
      "Первая цифра числа N: 1\n",
      "Последняя цифра числа N: 7\n"
     ]
    }
   ],
   "source": [
    "print(\"Первая цифра числа N: {}\\nПоследняя цифра числа N: {}\".format(str(N)[0],str(N)[-1]))"
   ]
  },
  {
   "cell_type": "code",
   "execution_count": 27,
   "id": "a8931c9a-6fd1-4745-8b14-e68f9bfb8d0a",
   "metadata": {},
   "outputs": [
    {
     "name": "stdout",
     "output_type": "stream",
     "text": [
      "155\n",
      "215\n",
      "275\n",
      "335\n",
      "395\n",
      "455\n",
      "515\n",
      "575\n",
      "635\n",
      "695\n",
      "755\n",
      "815\n",
      "875\n",
      "935\n",
      "995\n"
     ]
    }
   ],
   "source": [
    "#2 Найти все трехзначные числа, которые при делении на 2 дают остаток 1, при делении на 3 — остаток 2, при делении на 4 — остаток 3, а само число делится на 5.\n",
    "for i in range(100,1000):\n",
    "    if i % 2 == 1 and i % 3 == 2 and i % 4 == 3 and i % 5 == 0:\n",
    "        print(i)"
   ]
  },
  {
   "cell_type": "code",
   "execution_count": 5,
   "id": "31dd69a1-b341-4098-a263-d883abf2edb1",
   "metadata": {},
   "outputs": [
    {
     "name": "stdin",
     "output_type": "stream",
     "text": [
      "Введите натуральное число:  54645\n"
     ]
    }
   ],
   "source": [
    "#3. Дано натуральное число. Приписать к нему такое же.\n",
    "a = int(input(\"Введите натуральное число: \"))\n",
    "m = a; k = a"
   ]
  },
  {
   "cell_type": "code",
   "execution_count": 6,
   "id": "44db33a6-1318-4d8b-97f8-0ed0771680fe",
   "metadata": {},
   "outputs": [
    {
     "name": "stdout",
     "output_type": "stream",
     "text": [
      "5464554645\n",
      "5464554645\n"
     ]
    }
   ],
   "source": [
    "while m > 0:\n",
    "    m //= 10\n",
    "    k *= 10\n",
    "\n",
    "print(k+a)\n",
    "print(str(a)*2)"
   ]
  },
  {
   "cell_type": "markdown",
   "id": "d0e04c87-b619-41ba-b9d7-b6683ff12e27",
   "metadata": {},
   "source": [
    "**Задание №2**"
   ]
  },
  {
   "cell_type": "markdown",
   "id": "4c6968bf-df49-49d8-9e68-6c870b74823a",
   "metadata": {},
   "source": [
    "**Вариант № 5**\n",
    "1.   Вводится последовательность из N чисел. Найти и вывести те числа, которые являются особыми, т.е. делятся на все свои цифры. Например, 36 делится на 3 на 6.\n",
    "2.   Найти все натуральные числа a, b и с из интервала от 1 до 20, для которых выполняется равенство: а2*b=с2.\n"
   ]
  },
  {
   "cell_type": "code",
   "execution_count": 47,
   "id": "d51174c3-7447-43a7-bfb1-fd8f5fe09007",
   "metadata": {},
   "outputs": [
    {
     "name": "stdout",
     "output_type": "stream",
     "text": [
      "Для того чтобы перестать вводить числа, напишите слово!!!\n"
     ]
    },
    {
     "name": "stdin",
     "output_type": "stream",
     "text": [
      "Введите число №1:  14\n",
      "Введите число №2:  235\n",
      "Введите число №3:  577\n",
      "Введите число №4:  689\n",
      "Введите число №5:  1546\n",
      "Введите число №6:  2448\n",
      "Введите число №7:  stop\n"
     ]
    },
    {
     "name": "stdout",
     "output_type": "stream",
     "text": [
      "[14, 235, 577, 689, 1546, 2448]\n"
     ]
    }
   ],
   "source": [
    "#1\n",
    "i = 1\n",
    "buf = []\n",
    "print(\"Для того чтобы перестать вводить числа, напишите слово!!!\")\n",
    "while True:\n",
    "    try:\n",
    "        number = int(input(\"Введите число №{}: \".format(i)))\n",
    "    except ValueError:\n",
    "        break\n",
    "    buf.append(number)\n",
    "    i += 1\n",
    "print(buf)"
   ]
  },
  {
   "cell_type": "code",
   "execution_count": 48,
   "id": "552f4841-73c8-45eb-b46f-bffefef7813b",
   "metadata": {},
   "outputs": [
    {
     "name": "stdout",
     "output_type": "stream",
     "text": [
      "2448\n"
     ]
    }
   ],
   "source": [
    "buf_output = []\n",
    "\n",
    "for i in range(len(buf)):\n",
    "    a = str(buf[i])\n",
    "    length = len(a)\n",
    "    number_list = []\n",
    "    for i in range(len(a)):\n",
    "        number_list.append(a[i:i+1])\n",
    "    for i in range(len(number_list)):\n",
    "        if int(number_list[i]) != 0:\n",
    "            if int(a) % int(number_list[i]) == 0:\n",
    "                length -= 1\n",
    "    if length == 0:\n",
    "        print(a)"
   ]
  },
  {
   "cell_type": "code",
   "execution_count": 29,
   "id": "e1d8258d-caa8-4a81-812c-cc0b769e287e",
   "metadata": {},
   "outputs": [
    {
     "name": "stdout",
     "output_type": "stream",
     "text": [
      "a = 1, b = 1, c = 1\n",
      "a = 1, b = 4, c = 2\n",
      "a = 1, b = 9, c = 3\n",
      "a = 1, b = 16, c = 4\n",
      "a = 2, b = 1, c = 2\n",
      "a = 2, b = 4, c = 4\n",
      "a = 2, b = 9, c = 6\n",
      "a = 2, b = 16, c = 8\n",
      "a = 3, b = 1, c = 3\n",
      "a = 3, b = 4, c = 6\n",
      "a = 3, b = 9, c = 9\n",
      "a = 3, b = 16, c = 12\n",
      "a = 4, b = 1, c = 4\n",
      "a = 4, b = 4, c = 8\n",
      "a = 4, b = 9, c = 12\n",
      "a = 4, b = 16, c = 16\n",
      "a = 5, b = 1, c = 5\n",
      "a = 5, b = 4, c = 10\n",
      "a = 5, b = 9, c = 15\n",
      "a = 5, b = 16, c = 20\n",
      "a = 6, b = 1, c = 6\n",
      "a = 6, b = 4, c = 12\n",
      "a = 6, b = 9, c = 18\n",
      "a = 7, b = 1, c = 7\n",
      "a = 7, b = 4, c = 14\n",
      "a = 8, b = 1, c = 8\n",
      "a = 8, b = 4, c = 16\n",
      "a = 9, b = 1, c = 9\n",
      "a = 9, b = 4, c = 18\n",
      "a = 10, b = 1, c = 10\n",
      "a = 10, b = 4, c = 20\n",
      "a = 11, b = 1, c = 11\n",
      "a = 12, b = 1, c = 12\n",
      "a = 13, b = 1, c = 13\n",
      "a = 14, b = 1, c = 14\n",
      "a = 15, b = 1, c = 15\n",
      "a = 16, b = 1, c = 16\n",
      "a = 17, b = 1, c = 17\n",
      "a = 18, b = 1, c = 18\n",
      "a = 19, b = 1, c = 19\n",
      "a = 20, b = 1, c = 20\n"
     ]
    }
   ],
   "source": [
    "#2. Найти все натуральные числа a, b и с из интервала от 1 до 20, для которых выполняется равенство: а^2*b=с^2.\n",
    "for a in range(1,21):\n",
    "    for b in range(1,21):\n",
    "        for c in range(1,21):\n",
    "            if a ** 2 * b == c ** 2:\n",
    "                print(\"a = {}, b = {}, c = {}\".format(a,b,c))"
   ]
  },
  {
   "attachments": {
    "ca1f60a2-bac4-4b41-9b55-8f62dc0a075c.png": {
     "image/png": "[encoded data removed]"
    }
   },
   "cell_type": "markdown",
   "id": "41228cc0-5942-4435-98af-21216aff38e2",
   "metadata": {},
   "source": [
    "**Задание 3** \n",
    "\n",
    "Написать программу, которая выводит таблицу значений функции S(x) для х, изменяющихся в интервале от x1 до x2 с шагом h.  Переменная N – задает количество слагаемых для каждого аргумента х из интервала от х1 до х2 для функции S(x). Значение переменной h можно подсчитать по формуле h=(x2 – x1)/m, где m – количество точек табуляции переменной  x. \n",
    "\n",
    "![Формула3.png](attachment:ca1f60a2-bac4-4b41-9b55-8f62dc0a075c.png)"
   ]
  },
  {
   "cell_type": "code",
   "execution_count": 50,
   "id": "39822454-0c48-4e99-b776-4665ca782675",
   "metadata": {},
   "outputs": [
    {
     "name": "stdin",
     "output_type": "stream",
     "text": [
      "Введите x1:  2\n",
      "Введите x2:  25\n",
      "Введите m - количество точек табуляции:  18\n",
      "Введите N - количество слагаемых:  10\n"
     ]
    },
    {
     "name": "stdout",
     "output_type": "stream",
     "text": [
      "+-------+--------------------+\n",
      "|   x   |        S(x)        |\n",
      "+-------+--------------------+\n",
      "|  2.0  |      -0.6536       |\n",
      "|  3.28 |       0.9639       |\n",
      "|  4.56 |       0.0437       |\n",
      "|  5.83 |      211.2618      |\n",
      "|  7.11 |     14915.1556     |\n",
      "|  8.39 |    507936.1306     |\n",
      "|  9.67 |    10252702.707    |\n",
      "| 10.94 |   139912822.5992   |\n",
      "| 12.22 |  1409896761.3814   |\n",
      "|  13.5 |  11161985639.5235  |\n",
      "| 14.78 |  72627526013.965   |\n",
      "| 16.06 | 401716739351.6517  |\n",
      "| 17.33 | 1938305334397.2866 |\n",
      "| 18.61 | 8324915739457.273  |\n",
      "| 19.89 | 32342090531737.973 |\n",
      "| 21.17 | 115138097154200.4  |\n",
      "| 22.44 | 379614291216176.5  |\n",
      "| 23.72 | 1169385261363286.2 |\n",
      "+-------+--------------------+\n"
     ]
    }
   ],
   "source": [
    "from prettytable import PrettyTable\n",
    "mytable = PrettyTable()\n",
    "mytable.field_names = [\"x\", \"S(x)\"]\n",
    "x1 = float(input(\"Введите x1: \"))\n",
    "x2 = float(input(\"Введите x2: \"))\n",
    "m = int(input(\"Введите m - количество точек табуляции: \"))\n",
    "N = int(input(\"Введите N - количество слагаемых: \"))\n",
    "\n",
    "h = (x2 - x1) / m\n",
    "\n",
    "def S_x(k, x1):\n",
    "    \n",
    "    k_f = k * 2\n",
    "    factorial = 1\n",
    "    while k_f > 1:\n",
    "        factorial *= k_f\n",
    "        k_f -= 1\n",
    "        \n",
    "    result = ((-1)**k) * (((2*x1)**(2*k))/(factorial))\n",
    "    \n",
    "    return result\n",
    "\n",
    "while x1 < x2:\n",
    "    Sx = 0\n",
    "    k = 0\n",
    "    while k <= N:\n",
    "        Sx += S_x(k,x1)\n",
    "        k += 1\n",
    "    mytable.add_row([round(x1, 2), round(Sx, 4)])\n",
    "    x1 += h\n",
    "    \n",
    "print(mytable)"
   ]
  },
  {
   "cell_type": "code",
   "execution_count": null,
   "id": "2472368d-d1ff-4e70-bb2c-d23f5071b756",
   "metadata": {},
   "outputs": [],
   "source": []
  }
 ],
 "metadata": {
  "kernelspec": {
   "display_name": "Python 3",
   "language": "python",
   "name": "python3"
  },
  "language_info": {
   "codemirror_mode": {
    "name": "ipython",
    "version": 3
   },
   "file_extension": ".py",
   "mimetype": "text/x-python",
   "name": "python",
   "nbconvert_exporter": "python",
   "pygments_lexer": "ipython3",
   "version": "3.8.8"
  }
 },
 "nbformat": 4,
 "nbformat_minor": 5
}
